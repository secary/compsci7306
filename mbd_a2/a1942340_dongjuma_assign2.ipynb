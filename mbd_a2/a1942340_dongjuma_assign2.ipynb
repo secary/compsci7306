{
 "cells": [
  {
   "cell_type": "markdown",
   "id": "6730fecf",
   "metadata": {},
   "source": [
    "## Assignment 2: Time Series Forecasting\n",
    "\n",
    "### Dongju Ma A1942340\n",
    "\n",
    "#### Follow detail instructions in the assignment specification and use these heading for implementation and discussion"
   ]
  },
  {
   "cell_type": "markdown",
   "id": "b15f0c61",
   "metadata": {},
   "source": []
  },
  {
   "cell_type": "markdown",
   "id": "3df2aac6",
   "metadata": {},
   "source": [
    "### 1. Read the dataset"
   ]
  },
  {
   "cell_type": "code",
   "execution_count": null,
   "id": "e967e07b",
   "metadata": {},
   "outputs": [],
   "source": []
  },
  {
   "cell_type": "markdown",
   "id": "31d75afc",
   "metadata": {},
   "source": [
    "### 2. Analyse and visualise the data"
   ]
  },
  {
   "cell_type": "code",
   "execution_count": null,
   "id": "2d286790",
   "metadata": {},
   "outputs": [],
   "source": []
  },
  {
   "cell_type": "markdown",
   "id": "333cefa8",
   "metadata": {},
   "source": [
    "### 3. Implement prediction models"
   ]
  },
  {
   "cell_type": "code",
   "execution_count": null,
   "id": "c292820d",
   "metadata": {},
   "outputs": [],
   "source": []
  },
  {
   "cell_type": "markdown",
   "id": "067cebcf",
   "metadata": {},
   "source": [
    "### 4. Train prediction models"
   ]
  },
  {
   "cell_type": "code",
   "execution_count": null,
   "id": "23c816a9",
   "metadata": {},
   "outputs": [],
   "source": []
  },
  {
   "cell_type": "markdown",
   "id": "333ba5cb",
   "metadata": {},
   "source": [
    "### 5. Test predictin models and show results"
   ]
  },
  {
   "cell_type": "code",
   "execution_count": null,
   "id": "58a6ebe4",
   "metadata": {},
   "outputs": [],
   "source": []
  },
  {
   "cell_type": "markdown",
   "id": "ba7ea3a2",
   "metadata": {},
   "source": [
    "### 6. Compare the results from all candidate models, choose the best model, justify your choice and discuss the results\n",
    "\n",
    "Compare the results from all candidate models, choose the best model, justify your choice and discuss the results."
   ]
  },
  {
   "cell_type": "code",
   "execution_count": null,
   "id": "f47f0754",
   "metadata": {},
   "outputs": [],
   "source": []
  },
  {
   "cell_type": "markdown",
   "id": "8d9ff3f9",
   "metadata": {},
   "source": [
    "### 7. Reflect on what you have learned by completing this assignment"
   ]
  },
  {
   "cell_type": "code",
   "execution_count": null,
   "id": "99cf2087",
   "metadata": {},
   "outputs": [],
   "source": []
  },
  {
   "cell_type": "markdown",
   "id": "9d3a91b4",
   "metadata": {},
   "source": [
    "### 8. References"
   ]
  }
 ],
 "metadata": {
  "kernelspec": {
   "display_name": "venv",
   "language": "python",
   "name": "python3"
  },
  "language_info": {
   "codemirror_mode": {
    "name": "ipython",
    "version": 3
   },
   "file_extension": ".py",
   "mimetype": "text/x-python",
   "name": "python",
   "nbconvert_exporter": "python",
   "pygments_lexer": "ipython3",
   "version": "3.13.2"
  }
 },
 "nbformat": 4,
 "nbformat_minor": 5
}
