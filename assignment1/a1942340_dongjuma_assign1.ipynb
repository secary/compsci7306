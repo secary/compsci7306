{
 "cells": [
  {
   "cell_type": "markdown",
   "id": "6730fecf",
   "metadata": {},
   "source": [
    "## Assignment 1: Machine Learning Methods\n",
    "\n",
    "### \\<your name> \\<your id>\n",
    "\n",
    "#### How can we use health measurements to predict obesity\n",
    "The dataset provided has two forms of direct/indirect obesity measures. The first is a categorisation (NObeyesdad). \n",
    "NObesity values are:\n",
    "- Underweight Less than 18.5\n",
    "- Normal 18.5 to 24.9\n",
    "- Overweight 25.0 to 29.9\n",
    "- Obesity I 30.0 to 34.9\n",
    "- Obesity II 35.0 to 39.9\n",
    "- Obesity III Higher than 40\n",
    "\n",
    "The second can be done directly via Body Mass Index (BMI) which can be derived from height and weight (use your magical Google skills to find the formula).\n",
    "\n",
    "The goal here is to do some data modelling to achieve the following:\n",
    "- What recommendations would you make to the public to reduce the rate of obesity (backed by evidence)?\n",
    "\n",
    "#### Metric Descriptions\n",
    "\n",
    "Other provided metrics include:\n",
    "Gender, Age\n",
    "\n",
    "The attributes related with eating habits are: \n",
    "- Frequent consumption of high caloric food (FAVC)\n",
    "- Frequency of consumption of vegetables (FCVC)\n",
    "- Number of main meals (NCP)\n",
    "- Consumption of food between meals (CAEC)\n",
    "- Consumption of water daily (CH20)\n",
    "- Consumption of alcohol (CALC).\n",
    "\n",
    "The attributes related with the physical condition are: \n",
    "- Calories consumption monitoring (SCC)\n",
    "- Physical activity frequency (FAF)\n",
    "- Time using technology devices (TUE)\n",
    "- Transportation used (MTRANS)"
   ]
  },
  {
   "cell_type": "markdown",
   "id": "3df2aac6",
   "metadata": {},
   "source": [
    "### 1. Read the dataset"
   ]
  },
  {
   "cell_type": "code",
   "execution_count": null,
   "id": "e967e07b",
   "metadata": {},
   "outputs": [],
   "source": []
  },
  {
   "cell_type": "markdown",
   "id": "31d75afc",
   "metadata": {},
   "source": [
    "### 2. Analyse and visualise the data"
   ]
  },
  {
   "cell_type": "code",
   "execution_count": null,
   "id": "2d286790",
   "metadata": {},
   "outputs": [],
   "source": []
  },
  {
   "cell_type": "markdown",
   "id": "64ab5959",
   "metadata": {},
   "source": [
    "### 3. Organise the data for modelling"
   ]
  },
  {
   "cell_type": "code",
   "execution_count": null,
   "id": "4786ae44",
   "metadata": {},
   "outputs": [],
   "source": []
  },
  {
   "cell_type": "markdown",
   "id": "333cefa8",
   "metadata": {},
   "source": [
    "### 4. Implement prediction models"
   ]
  },
  {
   "cell_type": "code",
   "execution_count": null,
   "id": "c292820d",
   "metadata": {},
   "outputs": [],
   "source": []
  },
  {
   "cell_type": "markdown",
   "id": "067cebcf",
   "metadata": {},
   "source": [
    "### 5. Train prediction models"
   ]
  },
  {
   "cell_type": "code",
   "execution_count": null,
   "id": "23c816a9",
   "metadata": {},
   "outputs": [],
   "source": []
  },
  {
   "cell_type": "markdown",
   "id": "333ba5cb",
   "metadata": {},
   "source": [
    "### 6. Test prediction models and show results"
   ]
  },
  {
   "cell_type": "code",
   "execution_count": null,
   "id": "58a6ebe4",
   "metadata": {},
   "outputs": [],
   "source": []
  },
  {
   "cell_type": "markdown",
   "id": "ba7ea3a2",
   "metadata": {},
   "source": [
    "### 7. Compare the results from all candidate models, choose the best model, justify your choice and discuss the results"
   ]
  },
  {
   "cell_type": "code",
   "execution_count": null,
   "id": "f47f0754",
   "metadata": {},
   "outputs": [],
   "source": []
  },
  {
   "cell_type": "markdown",
   "id": "d8aff79d",
   "metadata": {},
   "source": [
    "### 8. Describe appropriate recommendations"
   ]
  },
  {
   "cell_type": "code",
   "execution_count": null,
   "id": "bd860394",
   "metadata": {},
   "outputs": [],
   "source": []
  },
  {
   "cell_type": "markdown",
   "id": "8d9ff3f9",
   "metadata": {},
   "source": [
    "### 9. Reflect on what you have learned by completing this assignment"
   ]
  },
  {
   "cell_type": "code",
   "execution_count": null,
   "id": "99cf2087",
   "metadata": {},
   "outputs": [],
   "source": []
  },
  {
   "cell_type": "markdown",
   "id": "9d3a91b4",
   "metadata": {},
   "source": [
    "### 10. References"
   ]
  }
 ],
 "metadata": {
  "kernelspec": {
   "display_name": "Python 3 (ipykernel)",
   "language": "python",
   "name": "python3"
  },
  "language_info": {
   "codemirror_mode": {
    "name": "ipython",
    "version": 3
   },
   "file_extension": ".py",
   "mimetype": "text/x-python",
   "name": "python",
   "nbconvert_exporter": "python",
   "pygments_lexer": "ipython3",
   "version": "3.9.12"
  }
 },
 "nbformat": 4,
 "nbformat_minor": 5
}
